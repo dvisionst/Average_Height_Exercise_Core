{
  "nbformat": 4,
  "nbformat_minor": 0,
  "metadata": {
    "colab": {
      "name": "average_height_Core.ipynb",
      "provenance": [],
      "collapsed_sections": [],
      "authorship_tag": "ABX9TyMjpY4fiFklIm+tyLfPoXeG",
      "include_colab_link": true
    },
    "kernelspec": {
      "name": "python3",
      "display_name": "Python 3"
    },
    "language_info": {
      "name": "python"
    }
  },
  "cells": [
    {
      "cell_type": "markdown",
      "metadata": {
        "id": "view-in-github",
        "colab_type": "text"
      },
      "source": [
        "<a href=\"https://colab.research.google.com/github/dvisionst/Average_Height_Exercise_Core/blob/main/average_height_Core.ipynb\" target=\"_parent\"><img src=\"https://colab.research.google.com/assets/colab-badge.svg\" alt=\"Open In Colab\"/></a>"
      ]
    },
    {
      "cell_type": "markdown",
      "source": [
        "# Average Height Exercise Core\n",
        "- Jose Flores\n",
        "- 7/6/2022"
      ],
      "metadata": {
        "id": "_PfJwMbPfLJH"
      }
    },
    {
      "cell_type": "code",
      "execution_count": 1,
      "metadata": {
        "id": "NR4juVegcG1H"
      },
      "outputs": [],
      "source": [
        "import pandas as pd\n",
        "data = '/content/athleteEventsNoPersonal.csv'\n",
        "athlete_df = pd.read_csv(data)"
      ]
    },
    {
      "cell_type": "markdown",
      "source": [
        "## 1. Load this dataset and explore it! Answer the following questions:\n",
        "\n",
        "     a. How many rows?\n",
        "\n",
        "     b. How many columns?\n",
        "\n"
      ],
      "metadata": {
        "id": "YQ3cz6KwfU2W"
      }
    },
    {
      "cell_type": "code",
      "source": [
        "# a. How many rows?\n",
        "# b. How many columns?\n",
        "athlete_df.shape\n",
        "\n",
        "# a. There are 40616 rows in the dataframe.\n",
        "# b. There are 12 rows in the dataframe."
      ],
      "metadata": {
        "colab": {
          "base_uri": "https://localhost:8080/"
        },
        "id": "UbmFkZLofvbo",
        "outputId": "bb00957c-f4a9-4b2e-db83-ec946e03d8a4"
      },
      "execution_count": 2,
      "outputs": [
        {
          "output_type": "execute_result",
          "data": {
            "text/plain": [
              "(40616, 12)"
            ]
          },
          "metadata": {},
          "execution_count": 2
        }
      ]
    },
    {
      "cell_type": "markdown",
      "source": [
        "     c. Which columns have missing values? (Why do think there are there so many null values in the Medals column?)"
      ],
      "metadata": {
        "id": "dkHmbM3sghR7"
      }
    },
    {
      "cell_type": "code",
      "source": [
        "athlete_df.isna().sum()\n",
        "\n",
        "# c. The columns with missing values are the 'Age' (1473), 'Height'(9001), \n",
        "# and 'Medal'(34699) columns.\n",
        "# The reason there are so many missing values in the Medals column is because\n",
        "# in the Olypmic games for any particular sport only 3 medals are given out.\n",
        "# It will always be the case that there will be more athletes competeing in an\n",
        "# event than there are medals to win in said event. \n"
      ],
      "metadata": {
        "colab": {
          "base_uri": "https://localhost:8080/"
        },
        "id": "9N6z6YOIgaq0",
        "outputId": "de63c234-f75b-4599-d731-e05c933deb27"
      },
      "execution_count": 3,
      "outputs": [
        {
          "output_type": "execute_result",
          "data": {
            "text/plain": [
              "ID            0\n",
              "Age        1473\n",
              "Height     9001\n",
              "Team          0\n",
              "NOC           0\n",
              "Games         0\n",
              "Year          0\n",
              "Season        0\n",
              "City          0\n",
              "Sport         0\n",
              "Event         0\n",
              "Medal     34699\n",
              "dtype: int64"
            ]
          },
          "metadata": {},
          "execution_count": 3
        }
      ]
    },
    {
      "cell_type": "markdown",
      "source": [
        "     d. How many entries correspond to the city of London?\n"
      ],
      "metadata": {
        "id": "d8lnoG_Bgkox"
      }
    },
    {
      "cell_type": "code",
      "source": [
        "lon_fill = athlete_df['City'] == 'London'\n",
        "len(athlete_df[lon_fill])\n",
        "\n",
        "# d. There are 3370 entries that correspond to London."
      ],
      "metadata": {
        "colab": {
          "base_uri": "https://localhost:8080/"
        },
        "id": "_GCh5tvrixEV",
        "outputId": "c237f70c-7d1a-4513-8b5e-f296de52f9db"
      },
      "execution_count": 4,
      "outputs": [
        {
          "output_type": "execute_result",
          "data": {
            "text/plain": [
              "3370"
            ]
          },
          "metadata": {},
          "execution_count": 4
        }
      ]
    },
    {
      "cell_type": "markdown",
      "source": [
        "\n",
        "     e. What age is the youngest athlete in our sample data?  Hint: use min()"
      ],
      "metadata": {
        "id": "On3D6P37gljA"
      }
    },
    {
      "cell_type": "code",
      "source": [
        "athlete_df['Age'].min()\n",
        "\n",
        "# e. Eleven years old is the age of youngest athlete in the data set. "
      ],
      "metadata": {
        "colab": {
          "base_uri": "https://localhost:8080/"
        },
        "id": "FRBG03LEuP2s",
        "outputId": "12d4db00-1e0a-4fad-a756-43ae48c66026"
      },
      "execution_count": 5,
      "outputs": [
        {
          "output_type": "execute_result",
          "data": {
            "text/plain": [
              "11.0"
            ]
          },
          "metadata": {},
          "execution_count": 5
        }
      ]
    },
    {
      "cell_type": "markdown",
      "source": [
        "## 2. Create filters to find out:\n",
        "\n",
        "     a. How many athletes who participated in the Sport \"Tug-Of-War\" were from Team \"Sweden\" in our sample dataset?\n",
        "\n",
        "\n",
        "\n"
      ],
      "metadata": {
        "id": "eh_zXuSH0QeT"
      }
    },
    {
      "cell_type": "code",
      "source": [
        "tug_fill = athlete_df['Sport'] == 'Tug-Of-War'\n",
        "team_sw_fill = athlete_df['Team'] == 'Sweden'\n",
        "len(athlete_df[tug_fill & team_sw_fill])\n",
        "\n",
        "# a. There are six athletes from team Sweden that participated in \"Tug-Of-War\"."
      ],
      "metadata": {
        "colab": {
          "base_uri": "https://localhost:8080/"
        },
        "id": "XfKsr9jX0fQt",
        "outputId": "59838d1d-721c-4951-8cc2-4f988cc60d1f"
      },
      "execution_count": 6,
      "outputs": [
        {
          "output_type": "execute_result",
          "data": {
            "text/plain": [
              "6"
            ]
          },
          "metadata": {},
          "execution_count": 6
        }
      ]
    },
    {
      "cell_type": "markdown",
      "source": [
        "     b. How many Gold medals were awarded to athletes who were over 40 years old?"
      ],
      "metadata": {
        "id": "2SNH6PbT0ecs"
      }
    },
    {
      "cell_type": "code",
      "source": [
        "medals_fill = athlete_df['Medal'] == 'Gold'\n",
        "over_40_fill = athlete_df['Age'] > 40\n",
        "len(athlete_df[medals_fill & over_40_fill])\n",
        "\n",
        "# b. There are 178 athletes that were over 40 years old and awarded a medal. "
      ],
      "metadata": {
        "colab": {
          "base_uri": "https://localhost:8080/"
        },
        "id": "iFy0CQmO0fuV",
        "outputId": "1918d7ba-dee0-416a-a79d-4d48af911085"
      },
      "execution_count": 7,
      "outputs": [
        {
          "output_type": "execute_result",
          "data": {
            "text/plain": [
              "66"
            ]
          },
          "metadata": {},
          "execution_count": 7
        }
      ]
    },
    {
      "cell_type": "markdown",
      "source": [
        "## 3. Determine the average height if\n",
        "\n",
        "     a. All rows are included.\n",
        "\n",
        "     "
      ],
      "metadata": {
        "id": "l5N9d0uq22n5"
      }
    },
    {
      "cell_type": "code",
      "source": [
        "athlete_df['Height'].mean().round(2)\n",
        "\n",
        "# a. The average height with all rows included is 25.62"
      ],
      "metadata": {
        "colab": {
          "base_uri": "https://localhost:8080/"
        },
        "id": "UXosifCg3HEy",
        "outputId": "eb88a65e-17d4-4b7e-aa07-e24b2d18f920"
      },
      "execution_count": 8,
      "outputs": [
        {
          "output_type": "execute_result",
          "data": {
            "text/plain": [
              "175.38"
            ]
          },
          "metadata": {},
          "execution_count": 8
        }
      ]
    },
    {
      "cell_type": "markdown",
      "source": [
        "     b. All rows are included but grouped by Event.\n",
        "\n",
        "     "
      ],
      "metadata": {
        "id": "1jrDMmOw3BO7"
      }
    },
    {
      "cell_type": "code",
      "source": [
        "athlete_df.groupby('Event')['Age'].mean().round(2)"
      ],
      "metadata": {
        "colab": {
          "base_uri": "https://localhost:8080/"
        },
        "id": "cdeE4Ay03IO_",
        "outputId": "936383c1-6f84-43d9-ebff-d670c47011a2"
      },
      "execution_count": 9,
      "outputs": [
        {
          "output_type": "execute_result",
          "data": {
            "text/plain": [
              "Event\n",
              "Alpine Skiing Men's Combined                      24.20\n",
              "Alpine Skiing Men's Downhill                      24.21\n",
              "Alpine Skiing Men's Giant Slalom                  23.38\n",
              "Alpine Skiing Men's Slalom                        23.14\n",
              "Alpine Skiing Men's Super G                       24.40\n",
              "                                                  ...  \n",
              "Wrestling Women's Flyweight, Freestyle            25.20\n",
              "Wrestling Women's Heavyweight, Freestyle          25.33\n",
              "Wrestling Women's Light-Heavyweight, Freestyle    24.50\n",
              "Wrestling Women's Lightweight, Freestyle          23.67\n",
              "Wrestling Women's Middleweight, Freestyle         25.07\n",
              "Name: Age, Length: 726, dtype: float64"
            ]
          },
          "metadata": {},
          "execution_count": 9
        }
      ]
    },
    {
      "cell_type": "markdown",
      "source": [
        "  c. Bonus: This dataset contains many athletes more than once (if they competed in multiple events and/or multiple years). You can confirm this by finding  .value_counts on the ID column!  For the bonus task we want to get the average height of all  the athletes, but don't want to include any athlete more than once.  Hint: We learned how to drop duplicates if EVERY column was identical, but now we want to drop a row any time just the ID is repeated.  To do this,  you can use a subset of your data as an argument in the drop_duplicates function.  You can also tell Python which of the duplicates to keep by using the keep argument."
      ],
      "metadata": {
        "id": "LTWLkufh3D-7"
      }
    },
    {
      "cell_type": "code",
      "source": [
        "uniq_ath_df = athlete_df.drop_duplicates(subset='ID', keep='first')\n",
        "uniq_ath_df['Height'].mean().round(2)\n"
      ],
      "metadata": {
        "colab": {
          "base_uri": "https://localhost:8080/"
        },
        "id": "l_WZJr_13JdA",
        "outputId": "ec23ffb8-46bc-47d1-ded0-3344fd3d6db2"
      },
      "execution_count": 10,
      "outputs": [
        {
          "output_type": "execute_result",
          "data": {
            "text/plain": [
              "176.32"
            ]
          },
          "metadata": {},
          "execution_count": 10
        }
      ]
    }
  ]
}