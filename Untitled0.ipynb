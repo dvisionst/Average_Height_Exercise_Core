{
  "nbformat": 4,
  "nbformat_minor": 0,
  "metadata": {
    "colab": {
      "name": "Untitled0.ipynb",
      "provenance": [],
      "authorship_tag": "ABX9TyOnnXn9iZ0pc/4GuMV3f0pH",
      "include_colab_link": true
    },
    "kernelspec": {
      "name": "python3",
      "display_name": "Python 3"
    },
    "language_info": {
      "name": "python"
    }
  },
  "cells": [
    {
      "cell_type": "markdown",
      "metadata": {
        "id": "view-in-github",
        "colab_type": "text"
      },
      "source": [
        "<a href=\"https://colab.research.google.com/github/dvisionst/Average_Height_Exercise_Core/blob/main/Untitled0.ipynb\" target=\"_parent\"><img src=\"https://colab.research.google.com/assets/colab-badge.svg\" alt=\"Open In Colab\"/></a>"
      ]
    },
    {
      "cell_type": "markdown",
      "source": [
        "# Average Height Exercise Core\n",
        "- Jose Flores\n",
        "- 7/6/2022"
      ],
      "metadata": {
        "id": "_PfJwMbPfLJH"
      }
    },
    {
      "cell_type": "code",
      "execution_count": 24,
      "metadata": {
        "id": "NR4juVegcG1H"
      },
      "outputs": [],
      "source": [
        "import pandas as pd\n",
        "data = '/content/athleteEventsNoPersonal.csv'\n",
        "athlete_df = pd.read_csv(data)"
      ]
    },
    {
      "cell_type": "markdown",
      "source": [
        "## 1. Load this dataset and explore it! Answer the following questions:\n",
        "\n",
        "     a. How many rows?\n",
        "\n",
        "     b. How many columns?\n",
        "\n"
      ],
      "metadata": {
        "id": "YQ3cz6KwfU2W"
      }
    },
    {
      "cell_type": "code",
      "source": [
        "# a. How many rows?\n",
        "# b. How many columns?\n",
        "athlete_df.shape\n",
        "\n",
        "# a. There are 40616 rows in the dataframe.\n",
        "# b. There are 12 rows in the dataframe."
      ],
      "metadata": {
        "colab": {
          "base_uri": "https://localhost:8080/"
        },
        "id": "UbmFkZLofvbo",
        "outputId": "afd950d5-d93b-4692-c5ea-7e93a40c3e2e"
      },
      "execution_count": 17,
      "outputs": [
        {
          "output_type": "execute_result",
          "data": {
            "text/plain": [
              "(40616, 12)"
            ]
          },
          "metadata": {},
          "execution_count": 17
        }
      ]
    },
    {
      "cell_type": "markdown",
      "source": [
        "     c. Which columns have missing values? (Why do think there are there so many null values in the Medals column?)"
      ],
      "metadata": {
        "id": "dkHmbM3sghR7"
      }
    },
    {
      "cell_type": "code",
      "source": [
        "athlete_df.isna().sum()\n",
        "\n",
        "# c. The columns with missing values are the 'Age' (1473), 'Height'(9001), \n",
        "# and 'Medal'(34699) columns.\n",
        "# The reason there are so many missing values in the Medals column is because\n",
        "# in the Olypmic games for any particular sport only 3 medals are given out.\n",
        "# It will always be the case that there will be more athletes competeing in an\n",
        "# event than there are medals to win in said event. \n"
      ],
      "metadata": {
        "colab": {
          "base_uri": "https://localhost:8080/"
        },
        "id": "9N6z6YOIgaq0",
        "outputId": "53a9e6b8-fd9e-4e35-cc9c-36221534fbc1"
      },
      "execution_count": 18,
      "outputs": [
        {
          "output_type": "execute_result",
          "data": {
            "text/plain": [
              "ID            0\n",
              "Age        1473\n",
              "Height     9001\n",
              "Team          0\n",
              "NOC           0\n",
              "Games         0\n",
              "Year          0\n",
              "Season        0\n",
              "City          0\n",
              "Sport         0\n",
              "Event         0\n",
              "Medal     34699\n",
              "dtype: int64"
            ]
          },
          "metadata": {},
          "execution_count": 18
        }
      ]
    },
    {
      "cell_type": "markdown",
      "source": [
        "     d. How many entries correspond to the city of London?\n"
      ],
      "metadata": {
        "id": "d8lnoG_Bgkox"
      }
    },
    {
      "cell_type": "code",
      "source": [
        "lon_fill = athlete_df['City'] == 'London'\n",
        "len(athlete_df[lon_fill])\n",
        "\n",
        "# d. There are 3370 entries that correspond to London."
      ],
      "metadata": {
        "colab": {
          "base_uri": "https://localhost:8080/"
        },
        "id": "_GCh5tvrixEV",
        "outputId": "e9d58554-be37-4cd7-ee22-d8ed63ee3a80"
      },
      "execution_count": 31,
      "outputs": [
        {
          "output_type": "execute_result",
          "data": {
            "text/plain": [
              "3370"
            ]
          },
          "metadata": {},
          "execution_count": 31
        }
      ]
    },
    {
      "cell_type": "markdown",
      "source": [
        "\n",
        "     e. What age is the youngest athlete in our sample data?  Hint: use min()"
      ],
      "metadata": {
        "id": "On3D6P37gljA"
      }
    },
    {
      "cell_type": "code",
      "source": [
        "athlete_df['Age'].min()\n",
        "\n",
        "# e. Eleven years old is the age of youngest athlete in the data set. "
      ],
      "metadata": {
        "colab": {
          "base_uri": "https://localhost:8080/"
        },
        "id": "FRBG03LEuP2s",
        "outputId": "4a592cd5-796c-495f-8804-664b7a2849c5"
      },
      "execution_count": 32,
      "outputs": [
        {
          "output_type": "execute_result",
          "data": {
            "text/plain": [
              "11.0"
            ]
          },
          "metadata": {},
          "execution_count": 32
        }
      ]
    },
    {
      "cell_type": "markdown",
      "source": [
        "## 2. Create filters to find out:\n",
        "\n",
        "     a. How many athletes who participated in the Sport \"Tug-Of-War\" were from Team \"Sweden\" in our sample dataset?\n",
        "\n",
        "\n",
        "\n"
      ],
      "metadata": {
        "id": "eh_zXuSH0QeT"
      }
    },
    {
      "cell_type": "code",
      "source": [
        "tug_fill = athlete_df['Sport'] == 'Tug-Of-War'\n",
        "team_sw_fill = athlete_df['Team'] == 'Sweden'\n",
        "len(athlete_df[tug_fill & team_sw_fill])\n",
        "\n",
        "# a. There are six athletes from team Sweden that participated in \"Tug-Of-War\"."
      ],
      "metadata": {
        "colab": {
          "base_uri": "https://localhost:8080/"
        },
        "id": "XfKsr9jX0fQt",
        "outputId": "d40f7bf0-cbc7-42b2-bb3a-36e8c6389ee7"
      },
      "execution_count": 34,
      "outputs": [
        {
          "output_type": "execute_result",
          "data": {
            "text/plain": [
              "6"
            ]
          },
          "metadata": {},
          "execution_count": 34
        }
      ]
    },
    {
      "cell_type": "markdown",
      "source": [
        "     b. How many Gold medals were awarded to athletes who were over 40 years old?"
      ],
      "metadata": {
        "id": "2SNH6PbT0ecs"
      }
    },
    {
      "cell_type": "code",
      "source": [
        "medals_fill = athlete_df['Medal'].isna()\n",
        "over_40_fill = athlete_df['Age'] > 40\n",
        "len(athlete_df[~medals_fill & over_40_fill])\n",
        "\n",
        "# b. There are 178 athletes that were over 40 years old and awarded a medal. "
      ],
      "metadata": {
        "colab": {
          "base_uri": "https://localhost:8080/"
        },
        "id": "iFy0CQmO0fuV",
        "outputId": "1839e416-1f58-4c3f-95ae-e5f6fb532074"
      },
      "execution_count": 40,
      "outputs": [
        {
          "output_type": "execute_result",
          "data": {
            "text/plain": [
              "178"
            ]
          },
          "metadata": {},
          "execution_count": 40
        }
      ]
    },
    {
      "cell_type": "markdown",
      "source": [
        "## 3. Determine the average height if\n",
        "\n",
        "     a. All rows are included.\n",
        "\n",
        "     "
      ],
      "metadata": {
        "id": "l5N9d0uq22n5"
      }
    },
    {
      "cell_type": "code",
      "source": [
        "athlete_df['Age'].mean().round(2)\n",
        "\n",
        "# a. The average age with all rows included is 25.62"
      ],
      "metadata": {
        "colab": {
          "base_uri": "https://localhost:8080/"
        },
        "id": "UXosifCg3HEy",
        "outputId": "f361148e-d32a-4d8e-d03b-94802708dec1"
      },
      "execution_count": 42,
      "outputs": [
        {
          "output_type": "execute_result",
          "data": {
            "text/plain": [
              "25.62"
            ]
          },
          "metadata": {},
          "execution_count": 42
        }
      ]
    },
    {
      "cell_type": "markdown",
      "source": [
        "     b. All rows are included but grouped by Event.\n",
        "\n",
        "     "
      ],
      "metadata": {
        "id": "1jrDMmOw3BO7"
      }
    },
    {
      "cell_type": "code",
      "source": [
        "athlete_df.groupby('Event')['Age'].mean().round(2)"
      ],
      "metadata": {
        "colab": {
          "base_uri": "https://localhost:8080/"
        },
        "id": "cdeE4Ay03IO_",
        "outputId": "df0722f5-c16a-4d53-b069-a74629f9ea86"
      },
      "execution_count": 44,
      "outputs": [
        {
          "output_type": "execute_result",
          "data": {
            "text/plain": [
              "Event\n",
              "Alpine Skiing Men's Combined                      24.20\n",
              "Alpine Skiing Men's Downhill                      24.21\n",
              "Alpine Skiing Men's Giant Slalom                  23.38\n",
              "Alpine Skiing Men's Slalom                        23.14\n",
              "Alpine Skiing Men's Super G                       24.40\n",
              "                                                  ...  \n",
              "Wrestling Women's Flyweight, Freestyle            25.20\n",
              "Wrestling Women's Heavyweight, Freestyle          25.33\n",
              "Wrestling Women's Light-Heavyweight, Freestyle    24.50\n",
              "Wrestling Women's Lightweight, Freestyle          23.67\n",
              "Wrestling Women's Middleweight, Freestyle         25.07\n",
              "Name: Age, Length: 726, dtype: float64"
            ]
          },
          "metadata": {},
          "execution_count": 44
        }
      ]
    },
    {
      "cell_type": "markdown",
      "source": [
        "  c. Bonus: This dataset contains many athletes more than once (if they competed in multiple events and/or multiple years). You can confirm this by finding  .value_counts on the ID column!  For the bonus task we want to get the average height of all  the athletes, but don't want to include any athlete more than once.  Hint: We learned how to drop duplicates if EVERY column was identical, but now we want to drop a row any time just the ID is repeated.  To do this,  you can use a subset of your data as an argument in the drop_duplicates function.  You can also tell Python which of the duplicates to keep by using the keep argument."
      ],
      "metadata": {
        "id": "LTWLkufh3D-7"
      }
    },
    {
      "cell_type": "code",
      "source": [
        "uniq_ath_df = athlete_df.drop_duplicates(subset='ID', keep='first')\n",
        "uniq_ath_df['Height'].mean().round(2)\n"
      ],
      "metadata": {
        "colab": {
          "base_uri": "https://localhost:8080/"
        },
        "id": "l_WZJr_13JdA",
        "outputId": "17af0538-163f-4c67-abd2-ad1faf4a6816"
      },
      "execution_count": 47,
      "outputs": [
        {
          "output_type": "execute_result",
          "data": {
            "text/plain": [
              "176.32"
            ]
          },
          "metadata": {},
          "execution_count": 47
        }
      ]
    }
  ]
}